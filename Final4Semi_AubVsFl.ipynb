{
 "cells": [
  {
   "cell_type": "code",
   "execution_count": 1,
   "id": "c00b1f80-9e27-4d80-a9b9-7e975671b938",
   "metadata": {},
   "outputs": [],
   "source": [
    "import pandas as pd\n",
    "import numpy as np\n",
    "from sklearn.preprocessing import StandardScaler\n",
    "from sklearn.linear_model import Ridge, RidgeCV\n",
    "from sklearn.model_selection import LeaveOneOut\n",
    "import warnings"
   ]
  },
  {
   "cell_type": "code",
   "execution_count": 2,
   "id": "212e78af-8663-4725-8086-8f922ed4dc16",
   "metadata": {},
   "outputs": [],
   "source": [
    "warnings.filterwarnings(\"ignore\", category = UserWarning)"
   ]
  },
  {
   "cell_type": "code",
   "execution_count": 3,
   "id": "3445df88-6295-48d9-82d7-7c762067037f",
   "metadata": {},
   "outputs": [],
   "source": [
    "df = pd.read_csv('gators.csv')"
   ]
  },
  {
   "cell_type": "code",
   "execution_count": 4,
   "id": "04c3a367-366a-48fd-9449-4c3306fd47fb",
   "metadata": {},
   "outputs": [],
   "source": [
    "X = df.drop('PTS', axis = 1)\n",
    "y = df['PTS']"
   ]
  },
  {
   "cell_type": "code",
   "execution_count": 5,
   "id": "13ecb5dd-f5f5-4d7f-8965-a1b3ec00f771",
   "metadata": {},
   "outputs": [],
   "source": [
    "Scaler = StandardScaler()\n",
    "X = Scaler.fit_transform(X)"
   ]
  },
  {
   "cell_type": "code",
   "execution_count": 6,
   "id": "9ab5a74d-a362-4575-a792-e8727907fa5c",
   "metadata": {},
   "outputs": [
    {
     "name": "stdout",
     "output_type": "stream",
     "text": [
      "Best alpha: 1e-05\n"
     ]
    }
   ],
   "source": [
    "alphas = [0.00001, 0.0001, 0.001, 0.01, 0.1, 1, 10, 100]\n",
    "loo = LeaveOneOut()\n",
    "\n",
    "ridge_cv = RidgeCV(alphas = alphas, cv = loo)\n",
    "ridge_cv.fit(X, y)\n",
    "print(\"Best alpha:\", ridge_cv.alpha_)"
   ]
  },
  {
   "cell_type": "code",
   "execution_count": 7,
   "id": "a8291463-4720-4bbf-84c8-a569b06a9ab6",
   "metadata": {},
   "outputs": [
    {
     "name": "stdout",
     "output_type": "stream",
     "text": [
      "Coefficients: [ 9.70235022  3.06130974 -2.68100353 -1.50971995  5.3765489  -2.70700746\n",
      "  4.49644339  4.55022307 -0.93520613 -2.71730135 -2.50785915 -3.72377268\n",
      "  2.17111489  0.58926354  0.80391197  9.62755348 -3.12515355 -4.2142814\n",
      " -1.1976479 ]\n",
      "Intercept: 85.44736842105262\n"
     ]
    }
   ],
   "source": [
    "ridge = Ridge(alpha = ridge_cv.alpha_)\n",
    "ridge.fit(X, y)\n",
    "\n",
    "print(\"Coefficients:\", ridge.coef_)\n",
    "print(\"Intercept:\", ridge.intercept_)"
   ]
  },
  {
   "cell_type": "code",
   "execution_count": 8,
   "id": "2db3af5c-8755-4361-9add-8811a38e2384",
   "metadata": {},
   "outputs": [],
   "source": [
    "aub = pd.read_csv(\"aub.csv\")"
   ]
  },
  {
   "cell_type": "code",
   "execution_count": 9,
   "id": "b549acb4-fbc3-4541-8e8a-908066d39d4d",
   "metadata": {},
   "outputs": [],
   "source": [
    "aub1 = Scaler.fit_transform(aub)\n",
    "aub = pd.DataFrame(aub1, columns = aub.columns)"
   ]
  },
  {
   "cell_type": "code",
   "execution_count": 10,
   "id": "b14c58be-ee83-4361-9286-ec3f3ea3a08e",
   "metadata": {},
   "outputs": [],
   "source": [
    "last_row = aub.iloc[-1].values\n",
    "aub_stats = last_row.reshape(1, -1)"
   ]
  },
  {
   "cell_type": "code",
   "execution_count": 11,
   "id": "51617916-9067-4189-b125-3adfb4a0a063",
   "metadata": {},
   "outputs": [
    {
     "name": "stdout",
     "output_type": "stream",
     "text": [
      "UF will score 78.0 points on Auburn\n"
     ]
    }
   ],
   "source": [
    "prediction = ridge.predict(aub_stats)\n",
    "print(f\"UF will score {round(prediction[0],0)} points on Auburn\")"
   ]
  }
 ],
 "metadata": {
  "kernelspec": {
   "display_name": "Python [conda env:base] *",
   "language": "python",
   "name": "conda-base-py"
  },
  "language_info": {
   "codemirror_mode": {
    "name": "ipython",
    "version": 3
   },
   "file_extension": ".py",
   "mimetype": "text/x-python",
   "name": "python",
   "nbconvert_exporter": "python",
   "pygments_lexer": "ipython3",
   "version": "3.12.7"
  }
 },
 "nbformat": 4,
 "nbformat_minor": 5
}
